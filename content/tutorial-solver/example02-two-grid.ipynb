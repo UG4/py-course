{
 "cells": [
  {
   "cell_type": "markdown",
   "metadata": {},
   "source": [
    "[<img src=\"../../header.svg\">](../index.ipynb)\n",
    "\n",
    "---\n",
    "\n",
    "# Two grid method\n",
    "\n",
    "Simple iterative methods are slow to converge. Let us import everything we did before..."
   ]
  },
  {
   "cell_type": "code",
   "execution_count": 14,
   "metadata": {},
   "outputs": [
    {
     "name": "stdout",
     "output_type": "stream",
     "text": [
      "Loading Domain './grids/laplace_sample_grid_2d-tri.ugx'...\n",
      "Domain loaded.\n",
      "Refining ...\n",
      "Refining step {0} ...\n",
      "Refining step {1} ...\n",
      "Refining step {2} ...\n",
      "Refining step {3} ...\n",
      "Refining step {4} ...\n",
      "Refining done\n",
      "Approximation space:\n",
      "| ---------------------------------------------------------------------------- |\n",
      "|  Number of DoFs (All Procs)                                                  |\n",
      "|  Algebra: Block 1 (divide by 1 for #Index)                                   |\n",
      "|                                                                              |\n",
      "|    GridLevel   |       Domain |     0: Inner |  1: Boundary                  |\n",
      "| ---------------------------------------------------------------------------- |\n",
      "| (lev,    0)    |            9 |            1 |            8 |\n",
      "| (lev,    1)    |           25 |            9 |           16 |\n",
      "| (lev,    2)    |           81 |           49 |           32 |\n",
      "| (lev,    3)    |          289 |          225 |           64 |\n",
      "| (lev,    4)    |         1089 |          961 |          128 |\n",
      "| (lev,    5)    |         4225 |         3969 |          256 |\n",
      "| (lev,    0, g) |            9 |            1 |            8 |\n",
      "| (lev,    1, g) |           25 |            9 |           16 |\n",
      "| (lev,    2, g) |           81 |           49 |           32 |\n",
      "| (lev,    3, g) |          289 |          225 |           64 |\n",
      "| (lev,    4, g) |         1089 |          961 |          128 |\n",
      "| (lev,    5, g) |         4225 |         3969 |          256 |\n",
      "| (surf, top)    |         4225 |         3969 |          256 |\n",
      "| ---------------------------------------------------------------------------- |\n",
      "| For Legend and Options: print_statistic(\"legend\").                           |\n",
      "| ----Results: 100 steps (rho=0.90935115118555)\n",
      "Time: 0.006573 seconds\n",
      "------------------------------------------------------------------------ |\n",
      "OrderLex: LexOrdering in +x direction.\n",
      "\n",
      "ILU: please use 'set_ordering_algorithm(..)' in the future\n",
      "\n",
      "   % %%%%%%%%  Iterative Linear Solver   %%%%%%%%%%%%%%%%%%\n",
      "   % %%%%%%%%   (Precond: Gauss-Seidel)  %%%%%%%%%%%%%%%%%%\n",
      "   %   Iter      Defect         Rate \n",
      "   %    0:    1.595483e+02      -------\n",
      "   %    1:    4.670698e+01    2.927451e-01\n",
      "   %    2:    1.677847e+01    3.592284e-01\n",
      "   %    3:    7.047664e+00    4.200420e-01\n",
      "   %    4:    3.542452e+00    5.026420e-01\n",
      "   %    5:    2.117121e+00    5.976427e-01\n",
      "   %    6:    1.436034e+00    6.782956e-01\n",
      "   %    7:    1.054981e+00    7.346494e-01\n",
      "   %    8:    8.152322e-01    7.727457e-01\n",
      "   %    9:    6.519995e-01    7.997715e-01\n",
      "   %   10:    5.347561e-01    8.201788e-01\n",
      "   %   11:    4.472995e-01    8.364550e-01\n",
      "   %   12:    3.801966e-01    8.499823e-01\n",
      "   %   13:    3.275550e-01    8.615411e-01\n",
      "   %   14:    2.854901e-01    8.715791e-01\n",
      "   %   15:    2.513380e-0Error_gs\n",
      "1    8.803736e-01\n",
      "   %   16:    2.232176e-01    8.881172e-01\n",
      "   %   17:    1.997708e-01    8.949598e-01\n",
      "   %   18:    1.799992e-01    9.010290e-01\n",
      "   %   19:    1.631581e-01    9.064374e-01\n",
      "   %   20:    1.486836e-01    9.112859e-01\n",
      "   %   21:    1.361441e-01    9.156630e-01\n",
      "   %   22:    1.252043e-01    9.196451e-01\n",
      "   %   23:    1.156006e-01    9.232964e-01\n",
      "   %   24:    1.071236e-01    9.266697e-01\n",
      "   %   25:    9.960434e-02    9.298075e-01\n",
      "   %   26:    9.290529e-02    9.327433e-01\n",
      "   %   27:    8.691319e-02    9.355031e-01\n",
      "   %   28:    8.153388e-02    9.381071e-01\n",
      "   %   29:    7.668835e-02    9.405704e-01\n",
      "   %   30:    7.230982e-02    9.429049e-01\n",
      "   %   31:    6.834143e-02    9.451196e-01\n",
      "   %   32:    6.473447e-02    9.472215e-01\n",
      "   %   33:    6.144703e-02    9.492165e-01\n",
      "   %   34:    5.844284e-02    9.511094e-01\n",
      "   %   35:    5.569044e-02    9.529043e-01\n",
      "   %   36:    5.316239e-02    9.546053e-01\n",
      "   %   37:    5.083472e-02    9.562159e-01\n",
      "   %   38:    4.868644e-02    9.577399e-01\n",
      "   %   39:    4.669909e-02    9.591807e-01\n",
      "   %   40:    4.485645e-02    9.605421e-01\n",
      "   %   41:    4.314417e-02    9.618277e-01\n",
      "   %   42:    4.154961e-02    9.630412e-01\n",
      "   %   43:    4.006156e-02    9.641861e-01\n",
      "   %   44:    3.867007e-02    9.652663e-01\n",
      "   %   45:    3.736632e-02    9.662852e-01\n",
      "   %   46:    3.614244e-02    9.672463e-01\n",
      "   %   47:    3.499142e-02    9.681532e-01\n",
      "   %   48:    3.390700e-02    9.690092e-01\n",
      "   %   49:    3.288360e-02    9.698174e-01\n",
      "   %   50:    3.191620e-02    9.705809e-01\n",
      "   %   51:    3.100029e-02    9.713026e-01\n",
      "   %   52:    3.013182e-02    9.719854e-01\n",
      "   %   53:    2.930717e-02    9.726317e-01\n",
      "   %   54:    2.852303e-02    9.732441e-01\n",
      "   %   55:    2.777644e-02    9.738249e-01\n",
      "   %   56:    2.706470e-02    9.743762e-01\n",
      "   %   57:    2.638538e-02    9.749001e-01\n",
      "   %   58:    2.573625e-02    9.753984e-01\n",
      "   %   59:    2.511531e-02    9.758729e-01\n",
      "   %   60:    2.452071e-02    9.763252e-01\n",
      "   %   61:    2.395077e-02    9.767569e-01\n",
      "   %   62:    2.340396e-02    9.771693e-01\n",
      "   %   63:    2.287887e-02    9.775638e-01\n",
      "   %   64:    2.237419e-02    9.779416e-01\n",
      "   %   65:    2.188876e-02    9.783037e-01\n",
      "   %   66:    2.142146e-02    9.786512e-01\n",
      "   %   67:    2.097129e-02    9.789851e-01\n",
      "   %   68:    2.053732e-02    9.793063e-01\n",
      "   %   69:    2.011867e-02    9.796156e-01\n",
      "   %   70:    1.971457e-02    9.799137e-01\n",
      "   %   71:    1.932425e-02    9.802014e-01\n",
      "   %   72:    1.894702e-02    9.804793e-01\n",
      "   %   73:    1.858226e-02    9.807481e-01\n",
      "   %   74:    1.822935e-02    9.810082e-01\n",
      "   %   75:    1.788773e-02    9.812602e-01\n",
      "   %   76:    1.755689e-02    9.815046e-01\n",
      "   %   77:    1.723633e-02    9.817418e-01\n",
      "   %   78:    1.692560e-02    9.819723e-01\n",
      "   %   79:    1.662426e-02    9.821964e-01\n",
      "   %   80:    1.633192e-02    9.824144e-01\n",
      "   %   81:    1.604818e-02    9.826268e-01\n",
      "   %   82:    1.577269e-02    9.828338e-01\n",
      "   %   83:    1.550512e-02    9.830357e-01\n",
      "   %   84:    1.524514e-02    9.832327e-01\n",
      "   %   85:    1.499246e-02    9.834252e-01\n",
      "   %   86:    1.474678e-02    9.836133e-01\n",
      "   %   87:    1.450784e-02    9.837972e-01\n",
      "   %   88:    1.427538e-02    9.839771e-01\n",
      "   %   89:    1.404916e-02    9.841533e-01\n",
      "   %   90:    1.382895e-02    9.843258e-01\n",
      "   %   91:    1.361454e-02    9.844949e-01\n",
      "   %   92:    1.340570e-02    9.846606e-01\n",
      "   %   93:    1.320224e-02    9.848232e-01\n",
      "   %   94:    1.300398e-02    9.849827e-01\n",
      "   %   95:    1.281073e-02    9.851392e-01\n",
      "   %   96:    1.262232e-02    9.852929e-01\n",
      "   %   97:    1.243859e-02    9.854438e-01\n",
      "   %   98:    1.225937e-02    9.855921e-01\n",
      "   %   99:    1.208453e-02    9.857378e-01\n",
      "   %  100:    1.191391e-02    9.858810e-01\n",
      "   % Average reduction over 100 steps: 9.093512e-01\n",
      "   % Maximum numbers of 100 iterations reached without convergence.\n",
      "   % %%%%%  Iteration not successful  %%%%%\n",
      "\n",
      "ERROR in 'LinearSolver::apply': post-convergence-check signaled failure. Aborting.\n"
     ]
    },
    {
     "data": {
      "image/png": "[encoded data removed]",
      "text/plain": [
       "<Figure size 640x480 with 1 Axes>"
      ]
     },
     "metadata": {},
     "output_type": "display_data"
    },
    {
     "data": {
      "application/vnd.jupyter.widget-view+json": {
       "model_id": "77f0825b582045f8a901c39e6dc9df21",
       "version_major": 2,
       "version_minor": 0
      },
      "text/plain": [
       "Widget(value='<iframe src=\"http://localhost:64395/index.html?ui=P_0x29469a570_4&reconnect=auto\" class=\"pyvista…"
      ]
     },
     "metadata": {},
     "output_type": "display_data"
    }
   ],
   "source": [
    "%run example01-smoothers.ipynb"
   ]
  },
  {
   "cell_type": "markdown",
   "metadata": {},
   "source": [
    "\n",
    "\n",
    "## Definition of the two-grid method\n",
    "\n",
    "The convergence rate $\\kappa$ of simple iterative method slows down under refinement. We have $\\kappa\\rightarrow 1$ for $h\\rightarrow 0$. $h$-independent convergence rates are obtained, if smoothing is combined with coarse grid correction:\n",
    "\n",
    "<ins>Given:</ins> \n",
    "\\begin{align}\n",
    "\\text{Fine problem: }&  A_h x_h = b_h &\\text{ on }\\Omega_h ,\\\\\n",
    "\\text{Coarse problem: }&  A_H x_H = b_H &\\text{ on }\\Omega_H\n",
    "\\end{align}\n",
    "\n",
    "<ins>Algorithm:</ins> `ZGV`($A_h, x_h, b_h$)\n",
    "\n",
    "* Pre-smoothing:\n",
    ">for i=1:$\\nu_1$ do\n",
    ">\n",
    ">    $\\hspace{3em}x_h := x_h + M^{-1}(b_h-A_h x_h)$ \n",
    ">\n",
    "> end \n",
    "\n",
    "* Coarse grid correction(exact!)\n",
    "> $d_H := r (b_h-A_h x_h)$ \n",
    ">\n",
    "> `Löse` $A_H e_H = d_H$\n",
    ">\n",
    "> $x_h := x_h + p e_H$ \n",
    "\n",
    "* Post-smoothing (optional, e.g., to maintain symmetry):\n",
    ">for i=1:$\\nu_2$ do\n",
    ">\n",
    ">    $\\hspace{3em}x_h := x_h + M^{-1}(b_h-A_h x_h)$ \n",
    ">\n",
    "> end \n",
    "\n",
    "* return:\n",
    "> `return` $x_l$;\n",
    "\n"
   ]
  },
  {
   "cell_type": "code",
   "execution_count": 15,
   "metadata": {},
   "outputs": [],
   "source": [
    "#solver:set_preconditioner(GaussSeidel())\n",
    "#SolverTest(domainDisc, approxSpace, solver, \"SmootherError.vtk\");\n"
   ]
  },
  {
   "cell_type": "markdown",
   "metadata": {},
   "source": [
    "## Configuration of the two grid method\n",
    "\n",
    "### Parameter\n",
    "* Smoother $M$\n",
    "* Number of smoothing steps $\\nu$\n",
    "* Interpolation $p : \\mathbb R^{I_H} \\rightarrow \\mathbb  R^{I_h}$ (\"coarse to fine\", e.g., linear interpolation)\n",
    "* Restriction $r : \\mathbb R^{I_H} \\rightarrow \\mathbb  R^{I_h}$ (\"fine to coarse\", e.g., injection)\n",
    "* Computing $A_H$, e.g., $A_H:=r \\,A_h\\, p$"
   ]
  },
  {
   "cell_type": "code",
   "execution_count": 16,
   "metadata": {},
   "outputs": [],
   "source": [
    "numRefs = myRefs\n",
    "\n",
    "mg = ugcore.GeometricMultiGrid2dCPU1(approxSpace)\n",
    "mg.set_base_level(numRefs-1)       # Two grid method\n",
    "mg.set_discretization(domainDisc)\n",
    "\n",
    "mg.set_smoother(preconditioners[\"jac\"])    # Select smoother\n",
    "mg.set_num_presmooth(2)           # pre smoothing\n",
    "mg.set_num_postsmooth(0)           # pre smoothing\n",
    "\n",
    "mg.set_rap(True)                   # Galerkin product A_H=RAP; if true (alternative: assemble coarse system)\n"
   ]
  },
  {
   "cell_type": "code",
   "execution_count": 17,
   "metadata": {},
   "outputs": [],
   "source": [
    "solver = ugcore.LinearSolverCPU1()\n",
    "solver.set_convergence_check(convCheck)\n",
    "solver.set_preconditioner(mg)"
   ]
  },
  {
   "cell_type": "markdown",
   "metadata": {},
   "source": [
    "## Convergence\n"
   ]
  },
  {
   "cell_type": "markdown",
   "metadata": {},
   "source": [
    "Now, test the two-grid method."
   ]
  },
  {
   "cell_type": "code",
   "execution_count": 18,
   "metadata": {},
   "outputs": [
    {
     "name": "stdout",
     "output_type": "stream",
     "text": [
      "\n",
      "   % %%%%%%%%      Iterative Linear Solver      %%%%%%%%%%%\n",
      "   % %%%%%%%%   (Precond: Geometric MultiGrid)  %%%%%%%%%%%\n",
      "   % Results: 14 steps (rho=0.3683886194264074)\n",
      "Time: 0.031934 seconds\n",
      "  Iter      Defect         Rate \n",
      "   %    0:    1.595483e+02      -------\n",
      "   %    1:    1.755047e+01    1.100010e-01\n",
      "   %    2:    5.000507e+00    2.849216e-01\n",
      "   %    3:    1.870335e+00    3.740292e-01\n",
      "   %    4:    7.432565e-01    3.973921e-01\n",
      "   %    5:    3.029089e-01    4.075429e-01\n",
      "   %    6:    1.252999e-01    4.136555e-01\n",
      "   %    7:    5.236076e-02    4.178834e-01\n",
      "   %    8:    2.204679e-02    4.210556e-01\n",
      "   %    9:    9.338390e-03    4.235714e-01\n",
      "   %   10:    3.974844e-03    4.256456e-01\n",
      "   %   11:    1.698861e-03    4.274032e-01\n",
      "   %   12:    7.286793e-04    4.289223e-01\n",
      "   %   13:    3.135177e-04    4.302547e-01\n",
      "   %   14:    1.352630e-04    4.314366e-01\n",
      "   % Relative reduction 1.000000e-06 reached after 14 steps.\n",
      "   % Average reduction over 14 steps: 3.683886e-01\n",
      "   % %%%%%  Iteration converged  %%%%%\n",
      "\n",
      "Error_TwoGrid1.vtk\n"
     ]
    },
    {
     "data": {
      "application/vnd.jupyter.widget-view+json": {
       "model_id": "4ec956d1e02649018fc7660817ba75c1",
       "version_major": 2,
       "version_minor": 0
      },
      "text/plain": [
       "Widget(value='<iframe src=\"http://localhost:64395/index.html?ui=P_0x2838bdc10_5&reconnect=auto\" class=\"pyvista…"
      ]
     },
     "metadata": {},
     "output_type": "display_data"
    }
   ],
   "source": [
    "# Test fuer Level L, L-1\n",
    "solver.set_preconditioner(mg)\n",
    "history[\"two-grid1\"] = SolverTest(domainDisc, approxSpace, solver, \"Error_TwoGrid1.vtk\")\n",
    "result = pyvista.read( \"Error_TwoGrid1.vtu\")\n",
    "result.plot(scalars=\"u\", show_edges=True, cmap='jet')"
   ]
  },
  {
   "cell_type": "markdown",
   "metadata": {},
   "source": [
    "The two-grid method converges independent of the mesh size h. To illustrate, refine the grid and apply the method again. Note that the defect changes (due to the larger number of unknown), bit the convergence rate remains constant:"
   ]
  },
  {
   "cell_type": "code",
   "execution_count": 19,
   "metadata": {},
   "outputs": [
    {
     "name": "stdout",
     "output_type": "stream",
     "text": [
      "\n",
      "ILUT: please use 'set_ordering_algorithm(..)' in the future\n",
      "Results: 14 steps (rho=0.368138253613734)\n",
      "Time: 0.1262 seconds\n",
      "\n",
      "   % %%%%%%%%      Iterative Linear Solver      %%%%%%%%%%%\n",
      "   % %%%%%%%%   (Precond: Geometric MultiGrid)  %%%%%%%%%%%\n",
      "   %   Iter      Defect         Rate \n",
      "   %    0:    3.291969e+02      -------\n",
      "   %    1:    3.502034e+01    1.063811e-01\n",
      "   %    2:    9.890695e+00    2.824271e-01\n",
      "   %    3:    3.723597e+00    3.764748e-01\n",
      "   %    4:    1.487965e+00    3.996043e-01\n",
      "   %    5:    6.089399e-01    4.092433e-01\n",
      "   %    6:    2.527576e-01    4.150782e-01\n",
      "   %    7:    1.059390e-01    4.191326e-01\n",
      "   %    8:    4.472270e-02    4.221553e-01\n",
      "   %    9:    1.898556e-02    4.245174e-01\n",
      "   %   10:    8.095991e-03    4.264288e-01\n",
      "   %   11:    3.465228e-03    4.280178e-01\n",
      "   %   12:    1.487857e-03    4.293677e-01\n",
      "   %   13:    6.405742e-04    4.305347e-01\n",
      "   %   14:    2.764452e-04    4.315584e-01\n",
      "   % Relative reduction 1.000000e-06 reached after 14 steps.\n",
      "   % Average reduction over 14 steps: 3.681383e-01\n",
      "   % %%%%%  Iteration converged  %%%%%\n",
      "\n",
      "Error_TwoGrid2.vtk\n"
     ]
    },
    {
     "data": {
      "application/vnd.jupyter.widget-view+json": {
       "model_id": "633bd4c63f4b48f6b6412a7016070d41",
       "version_major": 2,
       "version_minor": 0
      },
      "text/plain": [
       "Widget(value='<iframe src=\"http://localhost:64395/index.html?ui=P_0x2838bdb20_6&reconnect=auto\" class=\"pyvista…"
      ]
     },
     "metadata": {},
     "output_type": "display_data"
    }
   ],
   "source": [
    "# Test fuer Level L+1, L\n",
    "refiner = ugcore.GlobalDomainRefiner(approxSpace.domain())\n",
    "refiner.refine()\n",
    "\n",
    "mg.set_base_level(numRefs) # Adjust coarse level!\n",
    "\n",
    "# Repeat test\n",
    "history[\"two-grid2\"] = SolverTest(domainDisc, approxSpace, solver, \"Error_TwoGrid2.vtk\")\n",
    "result = pyvista.read( \"Error_TwoGrid2.vtu\")\n",
    "result.plot(scalars=\"u\", show_edges=True, cmap='jet')"
   ]
  },
  {
   "cell_type": "markdown",
   "metadata": {},
   "source": [
    "## Approximation and Smoothing property\n",
    "\n",
    "Betrachten wir den Fehlerfortpflanzungsoperator $ T_{ZGV} (\\nu_1, \\nu_2)= S_{2}^{\\nu_2}(I-pA_H^{-1}rA) S_{1}^{\\nu_1}$ für den Fall nur mit Vorglättung, so ergibt sich:\n",
    "$$  T_{ZGV} (\\nu_,0)  =(I-pA_H^{-1}rA) S^{\\nu} = (A^{-1}-pA_H^{-1}r) AS^{\\nu}$$\n",
    "\n",
    "Das Verfahren konvergiert, falls Approximations und Glättungseigenschaft erfüllt sind. Es gebe also $C_S,C_A >0$ und eine Funktion $\\eta : \\mathbb N \\rightarrow \\mathbb R^+$, so dass \n",
    "$$\\|A^{-1} - pA_H^{-1}r\\| \\le C_A h^2 $$\n",
    "$$\\|A S^{\\nu}\\| \\le C_S \\frac{1}{h^2} \\eta(\\nu), $$\n",
    "wobei $\\eta(\\nu) \\rightarrow 0$ für $\\nu \\rightarrow \\infty$. Das Verfahren konvergiert demnach für hinreichend viele Glättungsschritte. Die Konvergenzrate wird besser, je mehr Glättungsschritte verwendet werden. Im Folgenden sehen wir, dass sie sich für dieses Beispiel etwa wie $\\frac{1}{\\nu}$ verhält:"
   ]
  },
  {
   "cell_type": "code",
   "execution_count": 20,
   "metadata": {},
   "outputs": [
    {
     "name": "stdout",
     "output_type": "stream",
     "text": [
      "\n",
      "ILUT: please use 'set_ordering_algorithm(..)' in the future\n",
      "Results: 28 steps (rho=0.601835262896011)\n",
      "Time: 0.149627 seconds\n",
      "\n",
      "   % %%%%%%%%      Iterative Linear Solver      %%%%%%%%%%%\n",
      "   % %%%%%%%%   (Precond: Geometric MultiGrid)  %%%%%%%%%%%\n",
      "   %   Iter      Defect         Rate \n",
      "   %    0:    3.291969e+02      -------\n",
      "   %    1:    8.071220e+01    2.451791e-01\n",
      "   %    2:    3.155397e+01    3.909442e-01\n",
      "   %    3:    1.604235e+01    5.084098e-01\n",
      "   %    4:    9.132513e+00    5.692753e-01\n",
      "   %    5:    5.457167e+00    5.975537e-01\n",
      "   %    6:    3.338945e+00    6.118459e-01\n",
      "   %    7:    2.071518e+00    6.204110e-01\n",
      "   %    8:    1.297449e+00    6.263276e-01\n",
      "   %    9:    8.184388e-01    6.308061e-01\n",
      "   %   10:    5.192067e-01    6.343867e-01\n",
      "   %   11:    3.309156e-01    6.373486e-01\n",
      "   %   12:    2.117380e-01    6.398550e-01\n",
      "   %   13:    1.359381e-01    6.420108e-01\n",
      "   %   14:    8.752893e-02    6.438881e-01\n",
      "   %   15:    5.650330e-02    6.455386e-01\n",
      "   %   16:    3.655769e-02    6.470010e-01\n",
      "   %   17:    2.370054e-02    6.483052e-01\n",
      "   %   18:    1.539290e-02    6.494748e-01\n",
      "   %   19:    1.001353e-02    6.505287e-01\n",
      "   %   20:    6.523636e-03    6.514824e-01\n",
      "   %   21:    4.255686e-03    6.523488e-01\n",
      "   %   22:    2.779553e-03    6.531386e-01\n",
      "   %   23:    1.817441e-03    6.538609e-01\n",
      "   %   24:    1.189558e-03    6.545235e-01\n",
      "   %   25:    7.793187e-04    6.551331e-01\n",
      "   %   26:    5.109958e-04    6.556954e-01\n",
      "   %   27:    3.353234e-04    6.562156e-01\n",
      "   %   28:    2.202061e-04    6.566978e-01\n",
      "   % Relative reduction 1.000000e-06 reached after 28 steps.\n",
      "   % Average reduction over 28 steps: 6.018353e-01\n",
      "   % %%%%%  Iteration converged  %%%%%\n",
      "\n",
      "ErrorZGV\n",
      "\n",
      "1/nu=1.0\n",
      "\n",
      "=========\n",
      "\n",
      "ILUT: please use 'set_ordering_algorithm(..)' in the future\n",
      "Results: 14 steps (rho=0.368138253613734)\n",
      "Time: 0.118694 seconds\n",
      "\n",
      "   % %%%%%%%%      Iterative Linear Solver      %%%%%%%%%%%\n",
      "   % %%%%%%%%   (Precond: Geometric MultiGrid)  %%%%%%%%%%%\n",
      "   %   Iter      Defect         Rate \n",
      "   %    0:    3.291969e+02      -------\n",
      "   %    1:    3.502034e+01    1.063811e-01\n",
      "   %    2:    9.890695e+00    2.824271e-01\n",
      "   %    3:    3.723597e+00    3.764748e-01\n",
      "   %    4:    1.487965e+00    3.996043e-01\n",
      "   %    5:    6.089399e-01    4.092433e-01\n",
      "   %    6:    2.527576e-01    4.150782e-01\n",
      "   %    7:    1.059390e-01    4.191326e-01\n",
      "   %    8:    4.472270e-02    4.221553e-01\n",
      "   %    9:    1.898556e-02    4.245174e-01\n",
      "   %   10:    8.095991e-03    4.264288e-01\n",
      "   %   11:    3.465228e-03    4.280178e-01\n",
      "   %   12:    1.487857e-03    4.293677e-01\n",
      "   %   13:    6.405742e-04    4.305347e-01\n",
      "   %   14:    2.764452e-04    4.315584e-01\n",
      "   % Relative reduction 1.000000e-06 reached after 14 steps.\n",
      "   % Average reduction over 14 steps: 3.681383e-01\n",
      "   % %%%%%  Iteration converged  %%%%%\n",
      "\n",
      "ErrorZGV\n",
      "\n",
      "1/nu=0.5\n",
      "\n",
      "=========\n",
      "\n",
      "ILUT: please use 'set_ordering_algorithm(..)' in the future\n",
      "\n",
      "   % %%%%%%%%      Iterative Linear Solver      %%%%%%%%%%%\n",
      "   % %%%%%%%%   (Precond: Geometric MultiGrid)  %%%%%%%%%%%Results: 10 steps (rho=0.24163002198957714)\n",
      "Time: 0.1126 seconds\n",
      "ErrorZGV\n",
      "\n",
      "1/nu=0.3333333333333333\n",
      "\n",
      "=========\n",
      "\n",
      "   %   Iter      Defect         Rate \n",
      "   %    0:    3.291969e+02      -------\n",
      "   %    1:    2.045032e+01    6.212185e-02\n",
      "   %    2:    4.371423e+00    2.137582e-01\n",
      "   %    3:    1.181037e+00    2.701723e-01\n",
      "   %    4:    3.341715e-01    2.829474e-01\n",
      "   %    5:    9.660030e-02    2.890740e-01\n",
      "   %    6:    2.829302e-02    2.928875e-01\n",
      "   %    7:    8.361531e-03    2.955333e-01\n",
      "   %    8:    2.487519e-03    2.974956e-01\n",
      "   %    9:    7.438256e-04    2.990231e-01\n",
      "   %   10:    2.233390e-04    3.002573e-01\n",
      "   % Relative reduction 1.000000e-06 reached after 10 steps.\n",
      "   % Average reduction over 10 steps: 2.416300e-01\n",
      "   % %%%%%  Iteration converged  %%%%%\n",
      "\n",
      "\n",
      "ILUT: please use 'set_ordering_algorithm(..)' in the future\n",
      "\n",
      "   % %%%%%%%%      Iterative Linear Solver      %%%%%%%%%%%\n",
      "   % %%%%%%%%   (Precond: Geometric MultiGrid)  %%%%%%%%%%%\n",
      "   %   Iter      Defect         Rate \n",
      "   % Results: 8 steps (rho=0.1748989432776026)\n",
      "Time: 0.10922 seconds\n",
      "   0:    3.291969e+02      -------\n",
      "   %    1:    1.409222e+01    4.280789e-02\n",
      "   %    2:    2.313340e+00    1.641572e-01\n",
      "   %    3:    4.732781e-01    2.045865e-01\n",
      "   %    4:    1.027644e-01    2.171333e-01\n",
      "   %    5:    2.303172e-02    2.241216e-01\n",
      "   %    6:    5.272356e-03    2.289171e-01\n",
      "   %    7:    1.225625e-03    2.324626e-01\n",
      "   %    8:    2.882393e-04    2.351773e-01\n",
      "   % Relative reduction 1.000000e-06 reached after 8 steps.\n",
      "   % Average reduction over 8 steps: 1.748989e-01\n",
      "   % %%%%%  Iteration converged  %%%%%\n",
      "\n",
      "ErrorZGV\n",
      "\n",
      "1/nu=0.25\n",
      "\n",
      "=========\n",
      "\n",
      "ILUT: please use 'set_ordering_algorithm(..)' in the future\n",
      "\n",
      "   % %%%%%%%%      Iterative Linear Solver      %%%%%%%%%%%\n",
      "   % %%%%%%%%   (Precond: Geometric MultiGrid)  %%%%%%%%%%%\n",
      "   %   Iter      Defect         Rate \n",
      "   %    0:    3.291969e+02      -------\n",
      "   %    1:    1.059968e+01    3.219859e-02\n",
      "   %    2:    1.389776e+00    1.311149e-01\n",
      "   %    3:    2.316664e-01    1.666934e-01\n",
      "   %    4:    4.172372e-02    1.801026e-01\n",
      "   %    5:    7.818294e-03    1.873825e-01\n",
      "   %    6:    1.500931e-03    1.919767e-01\n",
      "   %    7:    2.928292e-04    1.950985e-01\n",
      "   % Relative reduction 1.000000e-06 reached after 7 steps.\n",
      "   % Average reduction over 7 steps: 1.366451e-01\n",
      "   % %%%%%  Iteration converged  %%%%%\n",
      "\n",
      "Results: 7 steps (rho=0.1366451113433782)\n",
      "Time: 0.112714 seconds\n",
      "ErrorZGV\n",
      "\n",
      "1/nu=0.2\n",
      "\n",
      "=========\n"
     ]
    }
   ],
   "source": [
    "historyTwoGrid = {}\n",
    "\n",
    "for nu in range(1,6):\n",
    "    mg.set_num_presmooth(nu)\n",
    "    historyTwoGrid[nu] = SolverTest(domainDisc, approxSpace, solver, \"ErrorZGV\")\n",
    "    print()\n",
    "    print(\"1/nu=\" + str(1.0/nu))\n",
    "    print()\n",
    "    print(\"=========\")\n"
   ]
  },
  {
   "cell_type": "markdown",
   "metadata": {},
   "source": [
    "Mehr Glättungssschritte bedeuten natürlich mehr Aufwand pro Iteration. Man beachte, dass der Sweetspot bzgl. der Zeit in diesem Fall bei $\\nu=3$ liegt. Zuletzt wollen wir die Ergebnisse noch plotten:"
   ]
  },
  {
   "cell_type": "code",
   "execution_count": 21,
   "metadata": {},
   "outputs": [
    {
     "data": {
      "image/png": "[encoded data removed]",
      "text/plain": [
       "<Figure size 640x480 with 1 Axes>"
      ]
     },
     "metadata": {},
     "output_type": "display_data"
    }
   ],
   "source": [
    "PlotResults(historyTwoGrid, \"Two-grid method\")"
   ]
  },
  {
   "cell_type": "markdown",
   "metadata": {},
   "source": [
    "# Convergence of the two-grid method \n",
    "\n",
    "\n",
    "## Approximation property\n",
    "\n",
    "We need an estimate of the form\n",
    "\n",
    "$$ \\|A_h^{-1} - p A_H^{-1} r\\| = \\sup\\limits_{f_h} \\|(A_h^{-1} - p A_H^{-1} r) f_h\\| \\le \\frac{C_A}{\\|A_h\\|}\n",
    "$$\n",
    "\n",
    "This requires knowledge on the discretization. For arbitrary $f_h$ we find:\n",
    "\\begin{eqnarray}\n",
    "\\|(A_h^{-1} - p A_H^{-1} r) f_h\\| &=&  \\|(A_h^{-1}f_h - p A_H^{-1} r f_h\\| \\\\\n",
    "&=&  \\| u_h -  p \\tilde u_H\\| \n",
    "\\end{eqnarray}\n",
    "\n",
    "## Smoothing property\n",
    "\n",
    "The smoothing property can be shown algebraically.\n",
    "\n",
    "\n",
    "The result then follows from the following argument:\n",
    "\n",
    "### Analysis of $ f_{\\nu}(\\lambda) =(1-\\lambda)\\cdot \\lambda^\\nu$"
   ]
  },
  {
   "cell_type": "code",
   "execution_count": 38,
   "metadata": {},
   "outputs": [],
   "source": [
    "def mypoly (lamb, nu):\n",
    "    return (1.0-lamb)*lamb**nu;\n"
   ]
  },
  {
   "cell_type": "markdown",
   "metadata": {},
   "source": [
    "The maximum of this function in the interval $(-\\alpha,1]$ tends to zero for $\\nu \\rightarrow \\infty$."
   ]
  },
  {
   "cell_type": "code",
   "execution_count": 41,
   "metadata": {},
   "outputs": [
    {
     "data": {
      "text/plain": [
       "[<matplotlib.lines.Line2D at 0x2ab9f49b0>]"
      ]
     },
     "execution_count": 41,
     "metadata": {},
     "output_type": "execute_result"
    },
    {
     "data": {
      "image/png": "[encoded data removed]",
      "text/plain": [
       "<Figure size 640x480 with 1 Axes>"
      ]
     },
     "metadata": {},
     "output_type": "display_data"
    }
   ],
   "source": [
    "mylambda = np.arange(-1.0, 1.0, 0.02)\n",
    "import numpy as np\n",
    "import matplotlib.pyplot as plt\n",
    "\n",
    "plt.plot(mylambda,mypoly(mylambda, 1), label=\"lambda=1\")\n",
    "plt.plot(mylambda,mypoly(mylambda, 2), label=\"lambda=2\")\n",
    "plt.plot(mylambda,mypoly(mylambda, 3), label=\"lambda=3\")\n",
    "plt.plot(mylambda,mypoly(mylambda, 4), label=\"lambda=4\")\n",
    "plt.plot(mylambda,mypoly(mylambda, 5), label=\"lambda=5\")\n"
   ]
  },
  {
   "cell_type": "markdown",
   "metadata": {},
   "source": [
    "### Ausblick: Konstruktion robuster Glätter\n",
    "Für singulär gestörte Probleme werden häufig **robuste Glätter** benötigt. Am Beispiel der anisotropen Diffusion haebn wir gesehen, dass sich die **Approximationseigenschaft** verschlechtert. Es gilt lediglich:\n",
    "\n",
    "$$ \\|A_h^{-1} - p A_{H}^{-1} r \\| \\le C_A \\frac{h^2}{\\epsilon}\n",
    "$$\n",
    "Damit Konvergenz gegeben ist, muss ein Glätter eingesetzt werden, dessen **Glättungseigenschaft** dies entsprechend kompensiert. Es sollte also gelten:\n",
    "$$ \\|A_h S_h^{\\nu}\\| \\le C_s \\frac{\\epsilon }{h^2} \\eta(\\nu)\n",
    "$$\n",
    "\n",
    "\n",
    "Um dies zu zeigen, spaltet man wie folgt auf:\n",
    "\n",
    "\\begin{eqnarray}\n",
    "\\| A S^\\nu \\| &=& \\| M^{\\frac{1}{2}} (I-X) X^\\nu M^{\\frac{1}{2}}\\| \\\\\n",
    " &=& \\| M^{\\frac{1}{2}} (I-X) X^{\\nu-1} (M^{-\\frac{1}{2}} N  M^{-\\frac{1}{2}}) M^{\\frac{1}{2}}\\| \\\\\n",
    "  &\\le& \\| M^{\\frac{1}{2}} (I-X) X^{\\nu-1} M^{-\\frac{1}{2}} \\|\\| N  (M^{-\\frac{1}{2}} M^{\\frac{1}{2}})\\| \\\\\n",
    " &=&  \\| M^{\\frac{1}{2}} (I-X) X^{\\nu-1} M^{-\\frac{1}{2}} \\|\\| N \\| \n",
    "\\end{eqnarray}\n",
    "Die Glättungseigenschaft folgt dann, falls $(I-X)X^{\\nu-1} \\approx \\eta(\\nu-1)$ und \n",
    "$$\\|N \\| \\le C_s \\frac{\\epsilon }{h^2}.$$"
   ]
  },
  {
   "cell_type": "code",
   "execution_count": null,
   "metadata": {},
   "outputs": [],
   "source": []
  }
 ],
 "metadata": {
  "kernelspec": {
   "display_name": "Python 3 (ipykernel)",
   "language": "python",
   "name": "python3"
  },
  "language_info": {
   "codemirror_mode": {
    "name": "ipython",
    "version": 3
   },
   "file_extension": ".py",
   "mimetype": "text/x-python",
   "name": "python",
   "nbconvert_exporter": "python",
   "pygments_lexer": "ipython3",
   "version": "3.12.2"
  }
 },
 "nbformat": 4,
 "nbformat_minor": 4
}

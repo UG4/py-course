{
 "cells": [
  {
   "cell_type": "markdown",
   "metadata": {},
   "source": [
    "[<img src=\"../../header.svg\">](../index.ipynb)\n",
    "\n",
    "---\n",
    "# Illustration: Basic properties of iterative methods\n",
    "\n",
    "This example shows the basic steps to solve $-\\triangle u = f$ on the unit square using Dirichlet boundary conditions. \n",
    "\n",
    "An extension is given in the [following example](./tutorial-fem-02.ipynb).\n",
    "\n",
    "## Initialization\n",
    "Loading modules:"
   ]
  },
  {
   "cell_type": "code",
   "execution_count": null,
   "metadata": {},
   "outputs": [],
   "source": [
    "import sys\n",
    "sys.path.append(\"../.\")\n",
    "\n",
    "import modsimtools as util\n",
    "import ug4py.pyugcore as ugcore\n",
    "import ug4py.pyconvectiondiffusion as cd\n",
    "\n",
    "history = {}"
   ]
  },
  {
   "cell_type": "code",
   "execution_count": null,
   "metadata": {},
   "outputs": [],
   "source": [
    "myRefs = 5\n",
    "dom =  util.CreateDomain(\"./grids/laplace_sample_grid_2d-tri.ugx\", myRefs, {\"Inner\",\"Boundary\"})\n",
    "approxSpace = util.CreateApproximationSpace(dom, dict(fct = \"u\", type = \"Lagrange\", order = 1))"
   ]
  },
  {
   "cell_type": "code",
   "execution_count": null,
   "metadata": {},
   "outputs": [],
   "source": [
    "# Order vertices (and dofs) lexicographically\n",
    "ugcore.OrderLex(approxSpace, \"x\")"
   ]
  },
  {
   "cell_type": "code",
   "execution_count": null,
   "metadata": {},
   "outputs": [],
   "source": [
    "# Import problem\n",
    "from config.ConvectionDiffusionProblem import ConvectionDiffusionProblem\n",
    "mydesc = {\"eps\":1, \"velx\":0.0, \"vely\": 0.0}\n",
    "problem=ConvectionDiffusionProblem(mydesc)"
   ]
  },
  {
   "cell_type": "code",
   "execution_count": null,
   "metadata": {},
   "outputs": [],
   "source": [
    "# Select discretization\n",
    "domainDisc = ugcore.DomainDiscretization2dCPU1(approxSpace)\n",
    "problem.add_element_discretizations(domainDisc, \"u\")\n",
    "problem.add_boundary_conditions(domainDisc, \"u\")"
   ]
  },
  {
   "cell_type": "markdown",
   "metadata": {},
   "source": [
    "## Defining iterative methods"
   ]
  },
  {
   "cell_type": "code",
   "execution_count": null,
   "metadata": {},
   "outputs": [],
   "source": [
    "# Select smoothers\n",
    "preconditioners = dict(\n",
    "    jac = ugcore.JacobiCPU1(0.66),              # Jacobi (w/ damping)\n",
    "    gs  = ugcore.GaussSeidelCPU1(),             # Gauss-Seidel (forward only)\n",
    "    sgs = ugcore.SymmetricGaussSeidelCPU1(),    # Symmetric Gauss-Seidel (forward + backward)\n",
    "    ilu = ugcore.ILUCPU1(),                     # ILU (w/ pattern based),\n",
    "   # ilut = ug4.ILUT(0.1)                       # ILU (w/ threshold)\n",
    ")"
   ]
  },
  {
   "cell_type": "code",
   "execution_count": null,
   "metadata": {},
   "outputs": [],
   "source": [
    "# Additional config.\n",
    "preconditioners[\"ilu\"].set_sort(False)\n",
    "preconditioners[\"ilu\"].set_beta(0.01)\n",
    "\n",
    "\n",
    "baseLU = ugcore.LUCPU1()\n",
    "# baseSLU = SuperLU()\n",
    "\n"
   ]
  },
  {
   "cell_type": "markdown",
   "metadata": {},
   "source": [
    "## Testing preconditioners"
   ]
  },
  {
   "cell_type": "code",
   "execution_count": null,
   "metadata": {},
   "outputs": [],
   "source": [
    "# Solve problem with max 100 iterations, \n",
    "# reducing the error by 6 orders of magnitude  \n",
    "convCheck = ugcore.ConvCheckCPU1()\n",
    "convCheck.set_maximum_steps(100)\n",
    "convCheck.set_reduction(1e-6)\n",
    "convCheck.set_minimum_defect(1e-15)"
   ]
  },
  {
   "cell_type": "code",
   "execution_count": null,
   "metadata": {},
   "outputs": [],
   "source": [
    "solverID= \"gs\"\n",
    "\n",
    "# Linear solver\n",
    "linSolver = ugcore.LinearSolverCPU1()\n",
    "linSolver.set_preconditioner(preconditioners[solverID])\n",
    "linSolver.set_convergence_check(convCheck)"
   ]
  },
  {
   "cell_type": "code",
   "execution_count": null,
   "metadata": {},
   "outputs": [],
   "source": [
    "# CG method\n",
    "cgSolver = ugcore.CGCPU1()\n",
    "cgSolver.set_preconditioner(preconditioners[solverID])\n",
    "cgSolver.set_convergence_check(convCheck)"
   ]
  },
  {
   "cell_type": "markdown",
   "metadata": {},
   "source": [
    "Aktiviert man die folgenden Zeilen, so können wir anhand der Dateien *LS_Solution_IterNN* nachzuvollziehen, wie der Fehler abnimmt:"
   ]
  },
  {
   "cell_type": "code",
   "execution_count": null,
   "metadata": {},
   "outputs": [],
   "source": [
    "#dbgWriter = ugcore.GridFunctionDebugWriter2dCPU1(approxSpace)\n",
    "#linSolver.set_debug(dbgWriter)"
   ]
  },
  {
   "cell_type": "markdown",
   "metadata": {},
   "source": [
    "Die Konvergenz dieser einfachen Iterationen hängt von der Gitterweite ab. Die einfachen Glätter konvergieren mit zunehmender Verfeinerung immer schlechter.  Für $h\\rightarrow 0$ geht diese gegen 1."
   ]
  },
  {
   "cell_type": "code",
   "execution_count": null,
   "metadata": {},
   "outputs": [],
   "source": [
    "def SolverTest(domainDisc, approxSpace, solver, ioname):\n",
    "    # Assemble linear system\n",
    "    A = ugcore.AssembledLinearOperatorCPU1(domainDisc)\n",
    "    u = ugcore.GridFunction2dCPU1(approxSpace)\n",
    "    b = ugcore.GridFunction2dCPU1(approxSpace)\n",
    "    \n",
    "    ugcore.VecScaleAssign(u, 0.0, u)  #u.set(0.0)\n",
    "    try:\n",
    "        domainDisc.assemble_linear(A, b)\n",
    "    except:\n",
    "        print (\"Assembly error!\")\n",
    "        \n",
    "    clock = ugcore.CuckooClock()\n",
    "  \n",
    "   \n",
    "    ugcore.VecScaleAssign(b, 0.0, b)  # b.set(0.0)\n",
    "\n",
    "    # u.set_random(-1.0, 1.0)\n",
    "    import random\n",
    "    random.seed(5)\n",
    "    ugcore.Interpolate(ugcore.PythonUserNumber2d(lambda x,y,t,si : random.uniform(-1.0,1.0)), u, \"u\")  \n",
    "    \n",
    "    # Call solver\n",
    "    clock.tic()\n",
    "    try:\n",
    "        solver.init(A, u)\n",
    "        solver.apply_return_defect(u,b)\n",
    "    except:\n",
    "        print (\"Solver failed!\")\n",
    "\n",
    "    nvec = convCheck.step()\n",
    "    print (\"Results: \" + str(nvec) + \" steps (rho=\" +str(convCheck.avg_rate()) +\")\")\n",
    "    print(\"Time: \" + str(clock.toc()) +\" seconds\")\n",
    "    \n",
    "    # Post processing (print results):\n",
    "    ugcore.WriteGridFunctionToVTK(u, ioname)\n",
    "    ugcore.SaveMatrixForConnectionViewer(u, A, \"MatrixA.mat\")\n",
    "    # SaveVectorForConnectionViewer(u, \"VectorU.vec\")\n",
    "    \n",
    "    # Store history (e.g. for plotting)\n",
    "    import numpy as np\n",
    "    history = np.zeros(nvec)\n",
    "    history[0] = convCheck.defect()/convCheck.reduction() # Initial defect.\n",
    "    for i in range(convCheck.step()):\n",
    "        history[i] = convCheck.get_defect(i)\n",
    "    print(ioname)\n",
    "    return history\n",
    "\n"
   ]
  },
  {
   "cell_type": "code",
   "execution_count": null,
   "metadata": {},
   "outputs": [],
   "source": [
    "# Test solver.\n",
    "resID = solverID + \"-ref\" + str(myRefs) + \"lin\"\n",
    "history[resID] = SolverTest(domainDisc, approxSpace, linSolver, \"Error_\" + solverID)"
   ]
  },
  {
   "cell_type": "code",
   "execution_count": null,
   "metadata": {},
   "outputs": [],
   "source": [
    "def PlotResults(history, title):\n",
    "    import matplotlib.pyplot as plt\n",
    "    for key in history:\n",
    "        plt.plot(range(history[key].size),history[key], label=key)\n",
    "\n",
    "    plt.title(title)\n",
    "    plt.xlabel(\"Step k\")\n",
    "    plt.yscale(\"log\")\n",
    "    plt.ylabel(\"Defect |b-Ax|\")\n",
    "    plt.legend()\n",
    "    "
   ]
  },
  {
   "cell_type": "code",
   "execution_count": null,
   "metadata": {},
   "outputs": [],
   "source": [
    "PlotResults(history, \"Gauss-Seidel\")"
   ]
  },
  {
   "cell_type": "code",
   "execution_count": 1,
   "metadata": {},
   "outputs": [
    {
     "data": {
      "application/vnd.jupyter.widget-view+json": {
       "model_id": "4ae1f63af39f42ef995642361ff2d9b5",
       "version_major": 2,
       "version_minor": 0
      },
      "text/plain": [
       "Widget(value='<iframe src=\"http://localhost:59559/index.html?ui=P_0x17c3540b0_0&reconnect=auto\" class=\"pyvista…"
      ]
     },
     "metadata": {},
     "output_type": "display_data"
    }
   ],
   "source": [
    "try:\n",
    "    import pyvista\n",
    "except ModuleNotFoundError:\n",
    "    print(\"pyvista is required for this demo\")\n",
    "    exit(0)\n",
    "\n",
    "try:  \n",
    "    # Activate the following lines binder, colab etc.\n",
    "    pyvista.start_xvfb()\n",
    "    pyvista.set_jupyter_backend('static')\n",
    "\n",
    "    # Activate locally, if trame exists.\n",
    "    # pyvista.set_jupyter_backend('trame')\n",
    "    \n",
    "    result = pyvista.read( \"Error_gs.vtu\")\n",
    "    result.plot(scalars=\"u\", show_edges=True, cmap='jet')\n",
    "except:\n",
    "     print(\"Plotting failed.\")"
   ]
  },
  {
   "cell_type": "code",
   "execution_count": null,
   "metadata": {},
   "outputs": [],
   "source": []
  }
 ],
 "metadata": {
  "kernelspec": {
   "display_name": "Python 3 (ipykernel)",
   "language": "python",
   "name": "python3"
  },
  "language_info": {
   "codemirror_mode": {
    "name": "ipython",
    "version": 3
   },
   "file_extension": ".py",
   "mimetype": "text/x-python",
   "name": "python",
   "nbconvert_exporter": "python",
   "pygments_lexer": "ipython3",
   "version": "3.12.2"
  }
 },
 "nbformat": 4,
 "nbformat_minor": 4
}

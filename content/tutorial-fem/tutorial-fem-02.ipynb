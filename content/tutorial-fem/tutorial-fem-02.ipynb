{
 "cells": [
  {
   "cell_type": "markdown",
   "metadata": {},
   "source": [
    "[<img src=\"../../header.svg\">](../index.ipynb)\n",
    "\n",
    "---\n",
    "# Finite Elements: Error analysis for the Poisson equation\n",
    "The previous section [vorherigen Beispiel](./tutorial-fem-01.ipynb) introduced the key steps for discretizing the Poisson equation. \n",
    "We revisit this equation\n",
    "$$\\nabla \\cdot[-D \\nabla u] = f $$\n",
    "with diffusion constant $D$ and source $f$ with different geometries in closer detail. The goal is to determine the discretization error. \n",
    "\n"
   ]
  },
  {
   "cell_type": "code",
   "execution_count": null,
   "metadata": {},
   "outputs": [],
   "source": [
    "\n",
    "import sys\n",
    "sys.path.append(\"..\")\n",
    "\n",
    "import modsimtools as util\n",
    "\n",
    "import ug4py.pyugcore as ug4\n",
    "import ug4py.pyconvectiondiffusion as cd\n",
    "# import ug4py.pysuperlu as slu\n",
    "\n",
    "import math  # For sqrt, sin, exp, ..."
   ]
  },
  {
   "cell_type": "markdown",
   "metadata": {},
   "source": [
    "## Problemdefinitionen\n",
    "\n",
    "Die Problemdefinitionen legen wir in Form von Klassen ab:\n",
    "### Problem 1\n",
    "\n",
    "Die folgende Klasse kodiert das [vorherige Beispiel](./tutorial-fem-01.ipynb) zur Laplace-Gleichung ($D=1$). Dabei wird die rechte Seite $f$ wird so gesetzt, dass sich Sinusschwingung \n",
    "\n",
    "$$u(x,y) = \\sin (\\mu  \\pi x) \\sin (\\nu  \\pi y)$$\n",
    "\n",
    "als Lösung ergibt. Außerdem diskretisieren wir das Einheitsquadrat mit Vierecken:"
   ]
  },
  {
   "cell_type": "code",
   "execution_count": null,
   "metadata": {},
   "outputs": [],
   "source": [
    "class SquareConfig:\n",
    "    # Geometrie\n",
    "    gridName= \"grids/unit_square_tri.ugx\" # \"grids/unit_square_tri.ugx\",\n",
    "    requiredSubsets = {\"Inner\", \"Boundary\"}\n",
    "    numRefs= 2\n",
    "    \n",
    "    # Constructor\n",
    "    def __init__(self, mu, nu):\n",
    "        self.mu = mu\n",
    "        self.nu = nu\n",
    "        \n",
    "        self.elemDisc = cd.ConvectionDiffusionFE2d(\"u\", \"Inner\")\n",
    "        self.elemDisc.set_diffusion(1.0)\n",
    "        self.elemDisc.set_source(lambda x,y,t : self.SourceCallback(x,y,t))\n",
    "        \n",
    "        self.dirichletBND = ug4.DirichletBoundary2dCPU1()\n",
    "        self.dirichletBND.add(0.0, \"u\", \"Boundary\")\n",
    "        \n",
    "    \n",
    "    # API function\n",
    "    def CreateDomainDisc(self,approxSpace):   \n",
    "        domainDisc = ug4.DomainDiscretization2dCPU1(approxSpace)  \n",
    "        domainDisc.add(self.elemDisc)\n",
    "        domainDisc.add(self.dirichletBND)\n",
    "        return domainDisc\n",
    "    \n",
    "    \n",
    "    # Callback fuer rechte Seite\n",
    "    def SourceCallback(self, x, y, t):\n",
    "        mu = self.mu\n",
    "        nu = self.nu\n",
    "        scale =  (mu*mu + nu*nu)*(math.pi)*(math.pi)\n",
    "        return scale*math.sin(math.pi*mu*x)* math.sin(math.pi*nu*y)\n",
    "\n",
    "    def SolutionCallback(self,x,y,t):\n",
    "        return math.sin(math.pi*self.mu*x)* math.sin(self.math.pi*self.nu*y)\n"
   ]
  },
  {
   "cell_type": "markdown",
   "metadata": {},
   "source": [
    "### Problem 2"
   ]
  },
  {
   "cell_type": "code",
   "execution_count": null,
   "metadata": {},
   "outputs": [],
   "source": [
    "# Callback function boundary values.\n",
    "def SectorDirichletSol(x, y, t, si):\n",
    "    r = math.sqrt(x*x+y*y);\n",
    "    phi = math.atan2(y,x);\n",
    "    if (phi<0) : phi = phi + 2*math.pi; \n",
    "    val=math.pow(r,(2/3))*math.sin(phi/3.0*2);\n",
    "    return val"
   ]
  },
  {
   "cell_type": "code",
   "execution_count": null,
   "metadata": {},
   "outputs": [],
   "source": [
    "class SectorProblem:\n",
    "    # Geometrie\n",
    "    gridName= \"grids/sectorTest.ugx\"\n",
    "    requiredSubsets = {\"Inner\", \"Circle\", \"Cut\"}\n",
    "    numRefs= 4\n",
    "    \n",
    "    # Constructor\n",
    "    def __init__(self):\n",
    "        self.mu = 1.0\n",
    "        self.nu = 4.0\n",
    "        \n",
    "        self.elemDisc = cd.ConvectionDiffusionFE2d(\"u\", \"Inner\")\n",
    "        self.elemDisc.set_diffusion(1.0)\n",
    "        self.elemDisc.set_source(0.0)\n",
    "    \n",
    "        self.dirichletBND = ug4.DirichletBoundary2dCPU1()\n",
    "        self.dirichletBND.add(ug4.PythonUserNumber2d(SectorDirichletSol), \"u\", \"Circle\")\n",
    "        self.dirichletBND.add(0.0, \"u\", \"Cut\")\n",
    "        \n",
    "    # Randbedingungen\n",
    "    def MyDirichletBndCallback1(x, y, t):\n",
    "        if (y==1) : return True, 0.0 \n",
    "        elif (y==0) : return True, math.sin(math.pi*1*x)\n",
    "        else : return False, 0.0 \n",
    "    \n",
    "    # API function\n",
    "    def CreateDomainDisc(self,approxSpace):   \n",
    "        domainDisc = ug4.DomainDiscretization2dCPU1(approxSpace)  \n",
    "        domainDisc.add(self.elemDisc)\n",
    "        domainDisc.add(self.dirichletBND)\n",
    "        return domainDisc\n",
    "    \n",
    "    # Solution\n",
    "    def SolutionCallback(self,x,y,t,si):\n",
    "        return SectorDirichletSol(x,y,t,si)\n",
    "    \n",
    "   "
   ]
  },
  {
   "cell_type": "markdown",
   "metadata": {},
   "source": [
    "### Auswahl einer Konfiguration\n",
    "Aus den o.g. Konfigurationen wählen wir eine aus:"
   ]
  },
  {
   "cell_type": "code",
   "execution_count": null,
   "metadata": {},
   "outputs": [],
   "source": [
    "#CONFIG = SquareConfig(1,4)\n",
    "CONFIG = SectorProblem()"
   ]
  },
  {
   "cell_type": "markdown",
   "metadata": {},
   "source": [
    "## Konfiguration von UG4\n",
    "\n",
    "Die folgenden Schritte sind aus dem [vorherigen Beispiel](./tutorial-fem-01.ipynb) bekannt:\n"
   ]
  },
  {
   "cell_type": "code",
   "execution_count": null,
   "metadata": {},
   "outputs": [],
   "source": [
    "dom = util.CreateDomain(CONFIG.gridName, CONFIG.numRefs, CONFIG.requiredSubsets)\n",
    "approxSpace = util.CreateApproximationSpace(dom, dict(fct = \"u\", type = \"Lagrange\", order = 1))\n",
    "domainDisc = CONFIG.CreateDomainDisc(approxSpace)"
   ]
  },
  {
   "cell_type": "markdown",
   "metadata": {},
   "source": [
    "### Konfiguration eines iterativen Lösers\n",
    "\n",
    "Ein Mehrgitterverfahren hat lediglich lineare Komplexität"
   ]
  },
  {
   "cell_type": "markdown",
   "metadata": {},
   "source": [
    "### Assembliere und löse LGS\n"
   ]
  },
  {
   "cell_type": "code",
   "execution_count": null,
   "metadata": {},
   "outputs": [],
   "source": [
    "Ah = ug4.AssembledLinearOperatorCPU1(domainDisc)\n",
    "uh = ug4.GridFunction2dCPU1(approxSpace)\n",
    "bh = ug4.GridFunction2dCPU1(approxSpace)\n",
    "\n",
    "\n",
    "import traceback\n",
    "try:\n",
    "    domainDisc.assemble_linear(Ah, bh)\n",
    "    domainDisc.adjust_solution(uh)\n",
    "except Exception as inst:\n",
    "    traceback.print_exc()\n",
    "    print(str(inst))\n",
    "    "
   ]
  },
  {
   "cell_type": "code",
   "execution_count": null,
   "metadata": {},
   "outputs": [],
   "source": [
    "# solver = ug4.LUCPU1()\n",
    "sys.path.append(\"..\")\n",
    "import util.solver_util as util_solver\n",
    "\n",
    "gmg = util_solver.CreateMultigridPrecond(approxSpace, domainDisc, \"V\",2,2)\n",
    "gmg.set_discretization(domainDisc)\n",
    "\n",
    "solver = ug4.LinearSolverCPU1()\n",
    "solver.set_preconditioner(gmg)\n",
    "solver.set_convergence_check(util_solver.convCheck)"
   ]
  },
  {
   "cell_type": "code",
   "execution_count": null,
   "metadata": {},
   "outputs": [],
   "source": [
    "\n",
    "try:\n",
    "    solver.init(Ah, uh)\n",
    "    solver.apply(uh, bh)\n",
    "except Exception as inst:\n",
    "    print(inst)\n",
    "    "
   ]
  },
  {
   "cell_type": "code",
   "execution_count": null,
   "metadata": {},
   "outputs": [],
   "source": [
    "import pyvista\n",
    "pyvista.start_xvfb()\n",
    "pyvista.set_jupyter_backend('trame')\n",
    "\n",
    "ug4.WriteGridFunctionToVTK(uh, \"fem02_solution_u\")\n",
    "result = pyvista.read(\"fem02_solution_u.vtu\")\n",
    "result.plot(scalars=\"u\", show_edges=True, cmap='jet')"
   ]
  },
  {
   "cell_type": "markdown",
   "metadata": {},
   "source": [
    "## Fehleranalyse\n",
    "\n",
    "Falls die  Lösung analytisch bekannt ist, können wir den Diskretisierungsfehler der numerischen Lösung $u_h$ bestimmen.  \n",
    "\n",
    "Dies geschieht in der L2-Norm: $$\\|u-u_h\\|_0 := \\sqrt{\\int_\\Omega (u-u_h)^2 }$$"
   ]
  },
  {
   "cell_type": "code",
   "execution_count": null,
   "metadata": {},
   "outputs": [],
   "source": [
    "err0=ug4.L2Error(ug4.PythonUserNumber2d(CONFIG.SolutionCallback), uh, \"u\", 1.0, 4)\n",
    "print(err0)"
   ]
  },
  {
   "cell_type": "markdown",
   "metadata": {},
   "source": [
    " Alternativ kann die H1-Norm verwendet werden, welche auch Ableitungen berücksichtigt: $$\\|u-u_h\\|_1 := \\sqrt{\\int_\\Omega (u-u_h)^2+ (\\nabla (u-u_h))^2 }$$\n"
   ]
  },
  {
   "cell_type": "code",
   "execution_count": null,
   "metadata": {
    "scrolled": true
   },
   "outputs": [],
   "source": [
    "uref = uh.clone()\n",
    "ug4.Interpolate(ug4.PythonUserNumber2d(CONFIG.SolutionCallback), uref, \"u\")\n",
    "err1=ug4.H1Error(uref, \"u\",  uh, \"u\", 2, \"Inner\")\n",
    "print(err1)\n"
   ]
  },
  {
   "cell_type": "code",
   "execution_count": null,
   "metadata": {},
   "outputs": [],
   "source": [
    "errh = uh.clone()\n",
    "ug4.VecScaleAdd2(errh, 1.0, uh, -1.0, uref)\n",
    "ug4.WriteGridFunctionToVTK(errh, \"tmp/fem02_error\")\n",
    "result = pyvista.read(\"tmp/fem02_error.vtu\")\n",
    "result.plot(scalars=\"u\", show_edges=True, cmap='jet')"
   ]
  },
  {
   "cell_type": "markdown",
   "metadata": {},
   "source": [
    "Die Werte speichern wir in einer Tabelle:"
   ]
  },
  {
   "cell_type": "code",
   "execution_count": null,
   "metadata": {},
   "outputs": [],
   "source": [
    "import numpy as np\n",
    "esquare=np.array([\n",
    "    # numRefs, err0, err1\n",
    "    [3, 0.026669178876216,0.036854207999089 ],\n",
    "    [4, 0.0067063542743748,0.0096692527695234],\n",
    "    [5, 0.0016790153921112,0.0024457630567399],\n",
    "    [6, 0.00041990545869718,0.00061321594052763],\n",
    "    [7, 0.0001049859512669,0.0001534133061914],\n",
    "])\n"
   ]
  },
  {
   "cell_type": "code",
   "execution_count": null,
   "metadata": {},
   "outputs": [],
   "source": [
    "esector=np.array([\n",
    "    # numRefs, err0, err1\n",
    "    [3, 0.0021517562195368, 0.014347178579376 ],\n",
    "    [4, 0.00082670975412983, 0.0090798283058054],\n",
    "    [5, 0.00032006823581697, 0.0057306863871163],\n",
    "    [6, 0.00013039000095758, 0.003629782236302],\n",
    "    [7, 5.5487900630332e-05, 0.0022953491311963],\n",
    "])\n"
   ]
  },
  {
   "cell_type": "code",
   "execution_count": null,
   "metadata": {},
   "outputs": [],
   "source": [
    "\n",
    "\n",
    "import matplotlib.pyplot as pyplot\n",
    "pyplot.title(\"L2 error\")\n",
    "pyplot.xlabel(\"Grid size h\")\n",
    "pyplot.ylabel(\"Error\")\n",
    "\n",
    "\n",
    "pyplot.plot(0.5**(esquare[:,0]), esquare[:,1], label='Square problem', marker=\"x\")\n",
    "pyplot.plot(0.5**(esector[:,0]), (0.5**(esector[:,0]))**2, label='O(h**2)', linestyle='dotted', color='black')\n",
    "\n",
    "\n",
    "pyplot.plot(0.5**(esector[:,0]), esector[:,1],  label='Sector problem', marker=\"x\")\n",
    "pyplot.plot(0.5**(esector[:,0]), 0.02*0.5**(esector[:,0]), label='O(h)', linestyle='dashed', color='black')\n",
    "\n",
    "pyplot.legend()\n",
    "pyplot.loglog(True)\n"
   ]
  },
  {
   "cell_type": "code",
   "execution_count": null,
   "metadata": {},
   "outputs": [],
   "source": [
    "import matplotlib.pyplot as pyplot\n",
    "pyplot.title(\"H1 error\")\n",
    "pyplot.xlabel(\"Grid size h\")\n",
    "pyplot.ylabel(\"Error\")\n",
    "\n",
    "h1semi_square = np.sqrt(esquare[:,2]- esquare[:,1])\n",
    "h1semi_sector = np.sqrt(esector[:,2]- esector[:,1])\n",
    "\n",
    "#pyplot.plot(0.5**(esquare[:,0]), esquare[:,2], label='Square', marker=\"x\")\n",
    "#pyplot.plot(0.5**(esector[:,0]), esector[:,2], label='Sector', marker=\"x\")\n",
    "pyplot.plot(0.5**(esector[:,0]), h1semi_square, label='Square', marker=\"x\")\n",
    "pyplot.plot(0.5**(esector[:,0]), 0.1*0.5**(esector[:,0]), label='O(h)', linestyle='dotted', color='black')\n",
    "\n",
    "pyplot.plot(0.5**(esector[:,0]), h1semi_sector, label='Sector', marker=\"x\")\n",
    "pyplot.plot(0.5**(esector[:,0]), (0.5**(esector[:,0]))**0.5, label='O(sqrt(h))', linestyle='dashed', color='black')\n",
    "\n",
    "\n",
    "pyplot.legend()\n",
    "pyplot.loglog(True)"
   ]
  },
  {
   "cell_type": "code",
   "execution_count": null,
   "metadata": {},
   "outputs": [],
   "source": []
  },
  {
   "cell_type": "code",
   "execution_count": null,
   "metadata": {},
   "outputs": [],
   "source": []
  },
  {
   "cell_type": "code",
   "execution_count": null,
   "metadata": {},
   "outputs": [],
   "source": []
  }
 ],
 "metadata": {
  "kernelspec": {
   "display_name": "Python 3 (ipykernel)",
   "language": "python",
   "name": "python3"
  },
  "language_info": {
   "codemirror_mode": {
    "name": "ipython",
    "version": 3
   },
   "file_extension": ".py",
   "mimetype": "text/x-python",
   "name": "python",
   "nbconvert_exporter": "python",
   "pygments_lexer": "ipython3",
   "version": "3.12.2"
  }
 },
 "nbformat": 4,
 "nbformat_minor": 4
}

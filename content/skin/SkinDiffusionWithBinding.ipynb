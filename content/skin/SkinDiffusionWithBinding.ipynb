{
 "cells": [
  {
   "cell_type": "markdown",
   "metadata": {},
   "source": [
    "[<img src=\"../../header.svg\">](../../index.ipynd)\n",
    "\n",
    "---\n",
    "\n",
    "# Drug Transport across a Virtual Skin Membrane: Binding of substances.\n",
    "\n",
    "In this example we solve a coupled system\n",
    "\n",
    "$$ \\partial_t c + \\nabla \\cdot [-D \\nabla c] + k_f \\cdot c - k_r \\cdot b = 0 $$\n",
    "$$ \\partial_t b   - k_f \\cdot c + k_r \\cdot b = 0 $$\n",
    "\n",
    "The steady-state is given by $ b = \\frac{k_f}{k_r} c $\n"
   ]
  },
  {
   "cell_type": "markdown",
   "metadata": {},
   "source": [
    "### Initialize UG4 "
   ]
  },
  {
   "cell_type": "code",
   "execution_count": 85,
   "metadata": {},
   "outputs": [],
   "source": [
    "# Importing \n",
    "import ug4py.pyugcore  as ugcore\n",
    "import ug4py.pylimex as limex\n",
    "import ug4py.pyconvectiondiffusion as cd\n",
    "\n",
    "import sys\n",
    "sys.path.append('..')\n",
    "import modsimtools as util"
   ]
  },
  {
   "cell_type": "markdown",
   "metadata": {},
   "source": [
    "### Create Domain"
   ]
  },
  {
   "cell_type": "code",
   "execution_count": 69,
   "metadata": {},
   "outputs": [],
   "source": [
    "requiredSubsets = {\"LIP\", \"COR\", \"BOTTOM_SC\", \"TOP_SC\"}\n",
    "gridName = \"skin2d-aniso.ugx\"\n",
    "numRefs = 2"
   ]
  },
  {
   "cell_type": "code",
   "execution_count": 70,
   "metadata": {},
   "outputs": [
    {
     "name": "stdout",
     "output_type": "stream",
     "text": [
      "Loading Domain 'skin2d-aniso.ugx'...\n",
      "Domain loaded.\n",
      "Refining ...\n",
      "Refining step {0} ...\n",
      "Refining step {1} ...\n",
      "Refining done\n"
     ]
    }
   ],
   "source": [
    "dom = util.CreateDomain(gridName, numRefs, requiredSubsets)"
   ]
  },
  {
   "cell_type": "markdown",
   "metadata": {},
   "source": [
    "### Create Approximation space"
   ]
  },
  {
   "cell_type": "code",
   "execution_count": 71,
   "metadata": {},
   "outputs": [
    {
     "name": "stdout",
     "output_type": "stream",
     "text": [
      "Approximation space:\n",
      "| ----------------------------------------------------------------------------------------- |\n",
      "|  Number of DoFs (All Procs)                                                               |\n",
      "|  Algebra: Block 1 (divide by 1 for #Index)                                                |\n",
      "|                                                                                           |\n",
      "|    GridLevel   |       Domain |       0: LIP |       1: COR | 2: BOTTOM_SC |    3: TOP_SC |\n",
      "| ----------------------------------------------------------------------------------------- |\n",
      "| (lev,    0)    |         1360 |           64 |         1216 |           40 |           40 |\n",
      "| (lev,    1)    |         5226 |         1566 |         3504 |           78 |           78 |\n",
      "| (lev,    2)    |        20482 |         8734 |        11440 |          154 |          154 |\n",
      "| (lev,    0, g) |         1360 |           64 |         1216 |           40 |           40 |\n",
      "| (lev,    1, g) |         5226 |         1566 |         3504 |           78 |           78 |\n",
      "| (lev,    2, g) |        20482 |         8734 |        11440 |          154 |          154 |\n",
      "| (surf, top)    |        20482 |         8734 |        11440 |          154 |          154 |\n",
      "| ----------------------------------------------------------------------------------------- |\n",
      "| For Legend and Options: print_statistic(\"legend\").                                        |\n",
      "| ----------------------------------------------------------------------------------------- |\n"
     ]
    }
   ],
   "source": [
    "approxSpace = ugcore.ApproximationSpace2d(dom)\n",
    "approxSpace.add_fct(\"c\",\"Lagrange\", 1) \n",
    "approxSpace.add_fct(\"b\",\"Lagrange\", 1) ## NEW: Two functions are required\n",
    "approxSpace.init_levels()\n",
    "approxSpace.init_top_surface()\n",
    "print(\"Approximation space:\")\n",
    "approxSpace.print_statistic()"
   ]
  },
  {
   "cell_type": "markdown",
   "metadata": {},
   "source": [
    "## Create a convection-diffusion-equation\n",
    "\n",
    "* Define model parameters"
   ]
  },
  {
   "cell_type": "code",
   "execution_count": 72,
   "metadata": {},
   "outputs": [],
   "source": [
    "# Define model parameter\n",
    "D={ \"COR\":  0.01, \"LIP\":1.0 }\n",
    "\n",
    "kf = 2.0\n",
    "kr = 1.0"
   ]
  },
  {
   "cell_type": "markdown",
   "metadata": {},
   "source": [
    "* Print characteristic times:"
   ]
  },
  {
   "cell_type": "code",
   "execution_count": 73,
   "metadata": {},
   "outputs": [
    {
     "name": "stdout",
     "output_type": "stream",
     "text": [
      "Characteristic times:\n",
      "Binding (c->b):\t\t0.5\n",
      "Binding (b->c):\t\t1.0\n",
      "Diffusion [LIP]:\t309.76000000000005\n",
      "Diffusion [COR]:\t30976.000000000004\n"
     ]
    }
   ],
   "source": [
    "L=17.6 # characteristic length\n",
    "print(\"Characteristic times:\")\n",
    "print(\"Binding (c->b):\\t\\t\" + str(1.0/kf))\n",
    "print(\"Binding (b->c):\\t\\t\" + str(1.0/kr))\n",
    "print(\"Diffusion [LIP]:\\t\" + str(L*L/D[\"LIP\"]))\n",
    "print(\"Diffusion [COR]:\\t\" + str(L*L/D[\"COR\"]))"
   ]
  },
  {
   "cell_type": "markdown",
   "metadata": {},
   "source": [
    "* The system requires **separate** element discs **for each species**:"
   ]
  },
  {
   "cell_type": "code",
   "execution_count": 74,
   "metadata": {},
   "outputs": [],
   "source": [
    "# Create element discretizations for free species \n",
    "elemDiscC ={}\n",
    "elemDiscC[\"COR\"] = util.CreateDiffusionElemDisc(\"c\", \"COR\", 1.0, D[\"COR\"], 0.0)\n",
    "elemDiscC[\"LIP\"] = util.CreateDiffusionElemDisc(\"c\", \"LIP\", 1.0, D[\"LIP\"], 0.0)"
   ]
  },
  {
   "cell_type": "code",
   "execution_count": 75,
   "metadata": {},
   "outputs": [],
   "source": [
    "# Create element discretizations for bound species\n",
    "elemDiscB ={}\n",
    "elemDiscB[\"COR\"] = util.CreateDiffusionElemDisc(\"b\", \"COR\", 1.0, 0.0, 0.0)\n",
    "elemDiscB[\"LIP\"] = util.CreateDiffusionElemDisc(\"b\", \"LIP\", 1.0, 0.0, 0.0)"
   ]
  },
  {
   "cell_type": "markdown",
   "metadata": {},
   "source": [
    "* Add corneocyte binding, i.e., reactions in corneocytes"
   ]
  },
  {
   "cell_type": "code",
   "execution_count": 76,
   "metadata": {},
   "outputs": [],
   "source": [
    "#myReactionC = kf*elemDiscC[\"COR\"]:value()-kr*elemDiscB[\"COR\"]:value()\n",
    "#myReactionB = -kf*elemDiscC[\"COR\"]:value()+kr*elemDiscB[\"COR\"]:value()\n",
    "\n",
    "def MyFunction (b,c): return kf*c - kr*b\n",
    "def MyFunction_b (b,c): return kf\n",
    "def MyFunction_c (b,c): return -kr\n",
    "\n",
    "pyReactionC=ugcore.PythonUserFunction2d(MyFunction, 2)\n",
    "pyReactionC.set_input_and_deriv(0,elemDiscC[\"COR\"].value(), MyFunction_b)\n",
    "pyReactionC.set_input_and_deriv(1,elemDiscB[\"COR\"].value(), MyFunction_c)\n",
    "\n",
    "pyReactionB =  ugcore.ScaleAddLinkerNumber2d()\n",
    "pyReactionB.add(-1.0, pyReactionC)\n",
    "\n",
    "elemDiscC[\"COR\"].set_reaction(pyReactionC)\n",
    "elemDiscB[\"COR\"].set_reaction(pyReactionB)"
   ]
  },
  {
   "cell_type": "markdown",
   "metadata": {},
   "source": [
    "* Boundary conditions:"
   ]
  },
  {
   "cell_type": "code",
   "execution_count": 77,
   "metadata": {},
   "outputs": [],
   "source": [
    "dirichletBnd = ugcore.DirichletBoundary2dCPU1()\n",
    "dirichletBnd.add(1.0, \"c\", \"TOP_SC\")\n",
    "dirichletBnd.add(0.0, \"c\", \"BOTTOM_SC\")\n",
    "dirichletBnd.add(0.0, \"b\", \"TOP_SC\") #NEW\n",
    "dirichletBnd.add(0.0, \"b\", \"BOTTOM_SC\")"
   ]
  },
  {
   "cell_type": "markdown",
   "metadata": {},
   "source": [
    "* Summarize everything in domain discretization:"
   ]
  },
  {
   "cell_type": "code",
   "execution_count": 78,
   "metadata": {},
   "outputs": [],
   "source": [
    "try:\n",
    "    domainDisc = ugcore.DomainDiscretization2dCPU1(approxSpace)\n",
    "    domainDisc.add(dirichletBnd)\n",
    "    domainDisc.add(elemDiscC[\"LIP\"]) \n",
    "    domainDisc.add(elemDiscC[\"COR\"])\n",
    "    domainDisc.add(elemDiscB[\"LIP\"])\n",
    "    domainDisc.add(elemDiscB[\"COR\"])\n",
    "except RuntimeError as inst:    \n",
    "    print(type(inst))    # the exception type\n",
    "    print(inst.args)     # arguments stored in .args\n",
    "    print(inst)  "
   ]
  },
  {
   "cell_type": "markdown",
   "metadata": {},
   "source": [
    "## Solve transient problem\n",
    "* Define parameters for time stepping:"
   ]
  },
  {
   "cell_type": "code",
   "execution_count": 79,
   "metadata": {},
   "outputs": [],
   "source": [
    "startTime = 0.0\n",
    "endTime = 500.0\n",
    "dt=endTime/100.0"
   ]
  },
  {
   "cell_type": "markdown",
   "metadata": {},
   "source": [
    "* Define grid function:"
   ]
  },
  {
   "cell_type": "code",
   "execution_count": 80,
   "metadata": {
    "scrolled": true
   },
   "outputs": [],
   "source": [
    "usol = ugcore.GridFunction2dCPU1(approxSpace)\n",
    "ugcore.Interpolate(0.0, usol, \"c\")\n",
    "ugcore.Interpolate(0.0, usol, \"b\")"
   ]
  },
  {
   "cell_type": "markdown",
   "metadata": {},
   "source": [
    "* Create solver"
   ]
  },
  {
   "cell_type": "code",
   "execution_count": 81,
   "metadata": {},
   "outputs": [],
   "source": [
    "lsolver=ugcore.LUCPU1()"
   ]
  },
  {
   "cell_type": "markdown",
   "metadata": {},
   "source": [
    "* Use C++-Objects"
   ]
  },
  {
   "cell_type": "code",
   "execution_count": 82,
   "metadata": {},
   "outputs": [],
   "source": [
    "timeDisc=ugcore.ThetaTimeStepCPU1(domainDisc, 1.0)\n",
    "timeInt = limex.ConstStepLinearTimeIntegrator2dCPU1(timeDisc)\n",
    "timeInt.set_linear_solver(lsolver)\n",
    "timeInt.set_time_step(dt)"
   ]
  },
  {
   "cell_type": "code",
   "execution_count": 83,
   "metadata": {},
   "outputs": [],
   "source": [
    "vtkObserver = limex.VTKOutputObserver2dCPU1(\"vtk/BindingSol.vtk\", ugcore.VTKOutput2d())\n",
    "timeInt.attach_finalize_observer(vtkObserver)"
   ]
  },
  {
   "cell_type": "code",
   "execution_count": 84,
   "metadata": {},
   "outputs": [
    {
     "name": "stdout",
     "output_type": "stream",
     "text": [
      "+++ Integrating: [\t0\t, \t500\t] with dt=\t5(100 iters)\n",
      "+++ Const timestep +++1(t=0, dt=5)\n",
      "<class 'UnicodeDecodeError'>\n",
      "('utf-8', b'\\x01\\x00\\x00\\x00\\x00\\x00\\x00\\x00\\xd8U\\xf8\\x02\\x01\\x00\\x00\\x00\\xfe\\x04\\x00\\x00\\x00\\x00\\x00\\x00\\xff\\xff\\xff\\xff\\xff\\xff\\xff\\xffds/py-ba\\x01\\x00\\x00\\x00\\x00\\x00\\x00\\x00ls/ugcore/ugbase/lib_disc/spatial_disc/user_data/data_evaluator.cpp:191 : Unknown std::exception: TypeError: Unregistered type : std::__1::vector<double, std::__1::allocator<double>>\\n/Users/runner/work/py-basic-wheels/py-basic-wheels/ugcore/ugbase/lib_disc/spatial_disc/user_data/data_evaluator.cpp:191 : DataEvaluatorBase::prep_elem: Cannot compute data for Export or Linker.\\n/Users/runner/work/py-basic-wheels/py-basic-wheels/ugcore/cmake/../../ugcore/ugbase/lib_disc/spatial_disc/elem_disc/elem_disc_assemble_util.h:1117 : (instationary) AssembleLinear: Cannot prepare element.\\n/Users/runner/work/py-basic-wheels/py-basic-wheels/ugcore/cmake/../../ugcore/ugbase/lib_disc/spatial_disc/elem_disc/elem_disc_assemble_util.h:1225 : (instationary) AssembleLinear: Cannot create Data Evaluator.\\n/Users/runner/work/py-basic-wheels/py-basic-wheels/ugcore/cmake/../../ugcore/ugbase/lib_disc/spatial_disc/domain_disc_impl.h:1831 : DomainDiscretization::assemble_linear (instationary): Assembling of elements of Dimension 2 in  subset 1 failed.\\n/Users/runner/work/py-basic-wheels/py-basic-wheels/ugcore/ugbase/bridge/disc_bridges/../../lib_disc/time_disc/theta_time_step_impl.h:200 : MultiStepTimeDiscretization: Cannot assemble jacobian.\\n', 8, 9, 'invalid continuation byte')\n",
      "'utf-8' codec can't decode byte 0xd8 in position 8: invalid continuation byte\n",
      "+++ Assemble (t=0, dt=5)\n"
     ]
    }
   ],
   "source": [
    "try:\n",
    "    timeInt.apply(usol, endTime, usol, startTime)\n",
    "except Exception as inst:    \n",
    "    print(type(inst))    # the exception type\n",
    "    print(inst.args)     # arguments stored in .args\n",
    "    print(inst)  "
   ]
  }
 ],
 "metadata": {
  "kernelspec": {
   "display_name": "Python 3 (ipykernel)",
   "language": "python",
   "name": "python3"
  },
  "language_info": {
   "codemirror_mode": {
    "name": "ipython",
    "version": 3
   },
   "file_extension": ".py",
   "mimetype": "text/x-python",
   "name": "python",
   "nbconvert_exporter": "python",
   "pygments_lexer": "ipython3",
   "version": "3.12.2"
  }
 },
 "nbformat": 4,
 "nbformat_minor": 4
}

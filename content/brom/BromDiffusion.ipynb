{
 "cells": [
  {
   "cell_type": "markdown",
   "id": "811f6c41",
   "metadata": {},
   "source": [
    "[<img src=\"../../header.svg\">](../index.ipynb)\n",
    "\n",
    "---\n",
    "# Bromine diffusion problem in 3D\n",
    "\n",
    "Governing equations:\n",
    "$$ \\frac{\\partial u}{\\partial t} + \\nabla \\cdot [-D \\nabla u] = f\n",
    "$$\n",
    "plus boundary and initial condiitions.\n",
    "\n",
    "## Setup"
   ]
  },
  {
   "cell_type": "code",
   "execution_count": null,
   "id": "e6150636",
   "metadata": {},
   "outputs": [],
   "source": [
    "import sys\n",
    "sys.path.append(\"..\")\n",
    "\n",
    "import ug4py.pyugcore as ug4\n",
    "import ug4py.pylimex as limex\n",
    "import ug4py.pyconvectiondiffusion as cd"
   ]
  },
  {
   "cell_type": "markdown",
   "id": "d6ebcfa4",
   "metadata": {},
   "source": [
    "## Grid and domain"
   ]
  },
  {
   "cell_type": "code",
   "execution_count": null,
   "id": "42847742",
   "metadata": {},
   "outputs": [],
   "source": [
    "# Setup:\n",
    "# defining needed subsets, grid and number of refinements\n",
    "requiredSubsets = [\"INNER\", \"WALL\", \"IN\"] # defining subsets\n",
    "gridName = \"brom-dose.ugx\"  # Grid created with ProMesh\n",
    "numRefs = 2  # Number of Refinement steps on given grid\n",
    "\n",
    "# Choosing a domain object\n",
    "# (either 1d, 2d or 3d suffix)\n",
    "dom = ug4.Domain3d()\n",
    "\n",
    "# Loading the given grid into the domain\n",
    "print(\"Loading Domain \"+ gridName + \"...\")\n",
    "ug4.LoadDomain(dom, gridName)\n",
    "print(\"Domain loaded.\")\n",
    "\n",
    "# Optional: Refining the grid\n",
    "if numRefs > 0:\n",
    "    print(\"Refining ...\")\n",
    "    refiner = ug4.GlobalDomainRefiner(dom)\n",
    "    for i in range(numRefs):\n",
    "        ug4.TerminateAbortedRun()\n",
    "        refiner.refine()\n",
    "        print(\"Refining step \"+ str(i) +\" ...\")\n",
    "\n",
    "    print(\"Refining done\")\n",
    "\n",
    "# checking if geometry has the needed subsets of the problem\n",
    "sh = dom.subset_handler()\n",
    "for e in requiredSubsets:\n",
    "    if sh.get_subset_index(e) == -1:\n",
    "        print(\"Domain does not contain subset {e}.\")\n",
    "        sys.exit(1)\n",
    "\n"
   ]
  },
  {
   "cell_type": "markdown",
   "id": "f420cc32",
   "metadata": {},
   "source": [
    "## Approximation space "
   ]
  },
  {
   "cell_type": "code",
   "execution_count": null,
   "id": "8f75da00",
   "metadata": {},
   "outputs": [],
   "source": [
    "\n",
    "# Create approximation space which describes the unknowns in the equation\n",
    "fct = \"u\"  # name of the function\n",
    "type = \"Lagrange\"\n",
    "order = 1  # polynom order for lagrange\n",
    "\n",
    "approxSpace = ug4.ApproximationSpace3d(dom)\n",
    "approxSpace.add_fct(fct, type, order)\n",
    "approxSpace.init_levels()\n",
    "approxSpace.init_surfaces()  \n",
    "approxSpace.init_top_surface()\n",
    "approxSpace.print_statistic()\n",
    "\n",
    "\n"
   ]
  },
  {
   "cell_type": "markdown",
   "id": "68560400",
   "metadata": {},
   "source": [
    "## Finite Volume Discretization"
   ]
  },
  {
   "cell_type": "code",
   "execution_count": null,
   "id": "011b124a",
   "metadata": {},
   "outputs": [],
   "source": [
    "\n",
    "# Create discretization for the Convection-Diffusion Equation\n",
    "# perform the discretization on the actual elements\n",
    "# using first order finite volumes (FV1) on the 3d grid\n",
    "dif = 10\n",
    "\n",
    "# creating instance of a convection diffusion equation\n",
    "elemDisc = cd.ConvectionDiffusionFV13d(\"u\", \"INNER\")\n",
    "elemDisc.set_diffusion(dif)\n",
    "\n",
    "# ug4 separates the boundary value and the discretization\n",
    "# boundary conditions can be enforced through a post-process (dirichlet).\n",
    "# To init at boundary, the value, function name from the Approximationspace\n",
    "# and the subset name are needed\n",
    "dirichletBND = ug4.DirichletBoundary3dCPU1()\n",
    "dirichletBND.add(1.0, \"u\", \"TOP\")  # Zufluss\n",
    "dirichletBND.add(0.0, \"u\", \"IN\")  # \"offene Dose\"\n",
    "\n",
    "\n",
    "# create the discretization object which combines all the\n",
    "# separate discretizations into one domain discretization.\n",
    "domainDisc = ug4.DomainDiscretization3dCPU1(approxSpace)\n",
    "domainDisc.add(elemDisc)\n",
    "domainDisc.add(dirichletBND)"
   ]
  },
  {
   "cell_type": "code",
   "execution_count": null,
   "id": "f8e0894b",
   "metadata": {},
   "outputs": [],
   "source": [
    "# Technical stuff\n",
    "def MyFunction (u,v):\n",
    "    return u*v\n",
    "\n",
    "def MyFunction_u (u,v):\n",
    "    return v\n",
    "\n",
    "def MyFunction_v (u,v):\n",
    "    return u\n",
    "\n",
    "pyFunction=ug4.PythonUserFunction3d(MyFunction, 2)\n",
    "pyFunction.set_input_and_deriv(0,elemDisc.value(), MyFunction_u)\n",
    "pyFunction.set_input_and_deriv(1,elemDisc.value(), MyFunction_v)\n",
    "# elemDisc.set_reaction(pyFunction)\n",
    "\n"
   ]
  },
  {
   "cell_type": "markdown",
   "id": "b11d8a00",
   "metadata": {},
   "source": [
    "## Solve transient problem"
   ]
  },
  {
   "cell_type": "code",
   "execution_count": null,
   "id": "3140f477",
   "metadata": {},
   "outputs": [],
   "source": [
    "\n",
    "# Use the Approximationspace to\n",
    "# create a vector of unknowns and a vector\n",
    "# which contains the right hand side\n",
    "usol = ug4.GridFunction3dCPU1(approxSpace)\n",
    "\n",
    "# Init the vector representing the unknowns with function\n",
    "def MyInitialValue(x, y, z, t, si):\n",
    "    return 0.0 if (z<1.75) else 1.0\n",
    "\n",
    "try:\n",
    "    # Passing the function as a string for the C++ Backend\n",
    "    pyInitialValue=ug4.PythonUserNumber3d(MyInitialValue)\n",
    "    # pyInitialValue.evaluate(0.0, ug4.Vec3d(1.0, 0.0, 0.0), 0.0, 4) # Test\n",
    "    ug4.Interpolate(pyInitialValue, usol, \"u\") \n",
    "\n",
    "except Exception as inst:\n",
    "    print(\"EXCEPTION:\")\n",
    "    print(inst)\n",
    "ug4.WriteGridFunctionToVTK(usol, \"BromInitial\")\n"
   ]
  },
  {
   "cell_type": "code",
   "execution_count": null,
   "id": "0983e366",
   "metadata": {},
   "outputs": [],
   "source": [
    "\n",
    "# Create Solver\n",
    "# In this case we use an LU (Lower Upper) Solver for an exact solution\n",
    "lsolver=ug4.LUCPU1()\n"
   ]
  },
  {
   "cell_type": "code",
   "execution_count": null,
   "id": "1b79efbe",
   "metadata": {},
   "outputs": [],
   "source": [
    "\n",
    "# Define start time, end time and step size\n",
    "startTime = 0.0\n",
    "endTime = 1.0\n",
    "dt = 0.00625\n",
    "\n",
    "# create a time discretization with the theta-scheme\n",
    "# takes in domain and a theta\n",
    "# theta = 1.0 -> Implicit Euler, \n",
    "# 0.0 -> Explicit Euler \n",
    "timeDisc=ug4.ThetaTimeStepCPU1(domainDisc, 1.0) \n",
    "\n",
    "# creating Time Iterator, setting the solver and step size\n",
    "timeInt = limex.LinearTimeIntegrator3dCPU1(timeDisc)\n",
    "#timeInt = limex.ConstStepLinearTimeIntegrator3dCPU1(timeDisc)\n",
    "timeInt.set_linear_solver(lsolver)\n",
    "timeInt.set_time_step(dt)\n",
    "\n",
    "# Solving the transient problem\n",
    "try:\n",
    "    timeInt.apply(usol, endTime, usol, startTime)\n",
    "except Exception as inst:\n",
    "    print(\"EXCEPTION:\")\n",
    "    # print(type(inst))\n",
    "    print(inst)\n",
    "    \n",
    "    \n"
   ]
  },
  {
   "cell_type": "markdown",
   "id": "38709dcf",
   "metadata": {},
   "source": [
    "## Exporting the result "
   ]
  },
  {
   "cell_type": "code",
   "execution_count": null,
   "id": "c4a48c79",
   "metadata": {},
   "outputs": [],
   "source": [
    "# Exporting the result to a vtu-file\n",
    "# can be visualized in paraview or with a python extension\n",
    "ug4.WriteGridFunctionToVTK(usol, \"BromFinal\")\n",
    "\n",
    "try:\n",
    "    # Plotting the result using pyvista\n",
    "    import pyvista\n",
    "    result = pyvista.read('BromFinal.vtu')\n",
    "    result.plot(scalars=\"u\", show_edges=True, cmap='hot')\n",
    "except:\n",
    "     print(\"Plotting failed.\")"
   ]
  },
  {
   "cell_type": "code",
   "execution_count": null,
   "id": "d030891c",
   "metadata": {},
   "outputs": [],
   "source": []
  }
 ],
 "metadata": {
  "kernelspec": {
   "display_name": "Python 3 (ipykernel)",
   "language": "python",
   "name": "python3"
  },
  "language_info": {
   "codemirror_mode": {
    "name": "ipython",
    "version": 3
   },
   "file_extension": ".py",
   "mimetype": "text/x-python",
   "name": "python",
   "nbconvert_exporter": "python",
   "pygments_lexer": "ipython3",
   "version": "3.12.2"
  }
 },
 "nbformat": 4,
 "nbformat_minor": 5
}
